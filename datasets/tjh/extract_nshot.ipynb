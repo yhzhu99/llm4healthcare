{
 "cells": [
  {
   "cell_type": "code",
   "execution_count": 1,
   "metadata": {},
   "outputs": [],
   "source": [
    "import os\n",
    "from pathlib import Path\n",
    "import numpy as np\n",
    "import pandas as pd"
   ]
  },
  {
   "cell_type": "code",
   "execution_count": 2,
   "metadata": {},
   "outputs": [],
   "source": [
    "data_dir = \"./datasets/tjh/\"\n",
    "Path(os.path.join(data_dir, 'processed/fold_nshot')).mkdir(parents=True, exist_ok=True)"
   ]
  },
  {
   "cell_type": "markdown",
   "metadata": {},
   "source": [
    "cp all files in `fold_ml` folder "
   ]
  },
  {
   "cell_type": "code",
   "execution_count": 3,
   "metadata": {},
   "outputs": [],
   "source": [
    "x = pd.read_pickle('datasets/tjh/processed/fold_nshot/train_x_bk.pkl')\n",
    "y = pd.read_pickle('datasets/tjh/processed/fold_nshot/train_y_bk.pkl')"
   ]
  },
  {
   "cell_type": "code",
   "execution_count": 4,
   "metadata": {},
   "outputs": [
    {
     "data": {
      "text/plain": [
       "(108, 5, 2, 0.0)"
      ]
     },
     "execution_count": 4,
     "metadata": {},
     "output_type": "execute_result"
    }
   ],
   "source": [
    "len(y), len(y[0]), len(y[0][0]), y[0][0][0]"
   ]
  },
  {
   "cell_type": "code",
   "execution_count": 5,
   "metadata": {},
   "outputs": [],
   "source": [
    "xx = []\n",
    "yy = []\n",
    "\n",
    "y_0_idx = []\n",
    "y_1_idx = []\n",
    "for i in range(len(y)):\n",
    "    if y[i][0][0] == 0:\n",
    "        y_0_idx.append(i)\n",
    "    else:\n",
    "        y_1_idx.append(i)\n",
    "\n",
    "import random\n",
    "random.seed(0)\n",
    "y_0_idx_select = random.sample(y_0_idx, 5)\n",
    "y_1_idx_select = random.sample(y_1_idx, 5)\n",
    "\n",
    "# append these samples into xx and yy list\n",
    "for i in y_0_idx_select:\n",
    "    xx.append(x[i])\n",
    "    yy.append(y[i])\n",
    "for i in y_1_idx_select:\n",
    "    xx.append(x[i])\n",
    "    yy.append(y[i])\n",
    "\n",
    "# save xx and yy to train_x.pkl and train_y.pkl\n",
    "pd.to_pickle(xx, 'datasets/tjh/processed/fold_nshot/train_x.pkl')\n",
    "pd.to_pickle(yy, 'datasets/tjh/processed/fold_nshot/train_y.pkl')\n",
    "\n",
    "random.seed(1)\n",
    "y_0_idx_select = random.sample(y_0_idx, 1)\n",
    "y_1_idx_select = random.sample(y_1_idx, 1)\n",
    "\n",
    "\n",
    "xx = []\n",
    "yy = []\n",
    "# append these samples into xx and yy list\n",
    "for i in y_0_idx_select:\n",
    "    xx.append(x[i])\n",
    "    yy.append(y[i])\n",
    "for i in y_1_idx_select:\n",
    "    xx.append(x[i])\n",
    "    yy.append(y[i])\n",
    "\n",
    "pd.to_pickle(xx, 'datasets/tjh/processed/fold_nshot/val_x.pkl')\n",
    "pd.to_pickle(yy, 'datasets/tjh/processed/fold_nshot/val_y.pkl')\n",
    "\n"
   ]
  }
 ],
 "metadata": {
  "kernelspec": {
   "display_name": "med",
   "language": "python",
   "name": "python3"
  },
  "language_info": {
   "codemirror_mode": {
    "name": "ipython",
    "version": 3
   },
   "file_extension": ".py",
   "mimetype": "text/x-python",
   "name": "python",
   "nbconvert_exporter": "python",
   "pygments_lexer": "ipython3",
   "version": "3.11.4"
  }
 },
 "nbformat": 4,
 "nbformat_minor": 2
}
